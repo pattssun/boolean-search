{
 "cells": [
  {
   "cell_type": "markdown",
   "id": "001ebc93",
   "metadata": {},
   "source": [
    "# Star Wars Boolean Search \n",
    "## Construct and execute simple Boolean searches on five documents on Star Wars"
   ]
  },
  {
   "cell_type": "markdown",
   "id": "5cc83327",
   "metadata": {},
   "source": [
    "Below are five brief \"documents\" (text snippets) on the Star Wars movies, taken from Wikipedia."
   ]
  },
  {
   "cell_type": "code",
   "execution_count": 3,
   "id": "c6bca1ae",
   "metadata": {},
   "outputs": [
    {
     "name": "stdout",
     "output_type": "stream",
     "text": [
      "\n",
      " doc1 :\n",
      "\n",
      " Frank Oz provided Yoda's voice with each film and  ...\n",
      "\n",
      " doc2 :\n",
      "\n",
      " Luke Skywalker lives a humdrum existence on Tatooi ...\n",
      "\n",
      " doc3 :\n",
      "\n",
      " When the Empire attacks the Rebel base, Solo trans ...\n",
      "\n",
      " doc4 :\n",
      "\n",
      " In her first appearance in Star Wars Episode IV: A ...\n",
      "\n",
      " doc5 :\n",
      "\n",
      " Three years later in Star Wars Episode V: The Empi ...\n"
     ]
    }
   ],
   "source": [
    "doc1 = \"Frank Oz provided Yoda's voice with each film and spent his skills to be a puppeteer in the original trilogy and Star Wars Episode I: The Phantom Menace. For the latter, in some walking scenes, Warwick Davis incarnated Yoda as well. For the radio dramatizations of The Empire Strikes Back and Return of the Jedi, Yoda was voiced by John Lithgow, while Tom Kane voiced him in the Clone Wars animated series, several video games, and the new series Star Wars: The Clone Wars.\"\n",
    "doc2 = \"Luke Skywalker lives a humdrum existence on Tatooine with his Uncle Owen and Aunt Beru that have kept his father's true history a secret from him. He initially wants to join the Imperial Academy to become a pilot with his childhood friend Biggs Darklighter, but is held back by his uncle who ostensibly needs his help on the moisture farm (while it was to hopefully prevent Luke from following his father's path). He takes his first steps toward his destiny when he finds the two droids C-3PO and R2-D2. After delivering R2-D2's message to hermit Ben Kenobi, Ben tells Luke that his father was a Jedi and presents him with his father's lightsaber and then tells him that his father was murdered by a traitorous Jedi. Ben offers to take Luke to the planet Alderaan and train him in the ways of the Force, but Luke rejects his offer.\"\n",
    "doc3 = \"When the Empire attacks the Rebel base, Solo transports Chewbacca, along with Princess Leia and C-3PO to Cloud City where his old friend (and Cloud City administrator) Lando Calrissian operates to hide from Imperial agents. When bounty hunter Boba Fett tracks the Falcon to Cloud City, Darth Vader forces Calrissian to help capture Solo sealed in carbonite for delivery to Jabba the Hutt. But Lando frees Vader's other captives and they may rescue Solo but are too late as Fett escapes with Solo's frozen body.\"\n",
    "doc4 = \"In her first appearance in Star Wars Episode IV: A New Hope, Princess Leia is introduced as the Princess of Alderaan and a member of the Imperial Senate. Darth Vader captures her on board the ship Tantive IV, where she is acting as a spy for the Rebel Alliance. He accuses her of being a traitor and demands to know the location of the secret technical plans of the Death Star, the Galactic Empire's most powerful weapon. Unknown to Vader, the young Senator has hidden the plans inside the Astromech droid R2-D2 and has sent it to find Jedi Master Obi-Wan Kenobi on the nearby planet of Tatooine.\"\n",
    "doc5 = \"Three years later in Star Wars Episode V: The Empire Strikes Back, Lord Vader leads an Imperial starfleet in pursuit of the Rebels. Intent on turning Luke to the dark side, Vader captures Princess Leia, Han Solo, Chewbacca and C-3PO on Cloud City to use them as bait for Luke. During a lightsaber duel, Vader cuts off Luke's right hand and reveals that he is Luke's father\"\n",
    "\n",
    "# store these documents in a dictionary\n",
    "documents = {'doc1':doc1} \n",
    "documents['doc2'] = doc2\n",
    "documents['doc3'] = doc3\n",
    "documents['doc4'] = doc4\n",
    "documents['doc5'] = doc5\n",
    "\n",
    "for doc in sorted(documents):\n",
    "  print('\\n', doc, ':\\n\\n', documents[doc][0:50], '...')"
   ]
  },
  {
   "cell_type": "code",
   "execution_count": 4,
   "id": "7427d740",
   "metadata": {},
   "outputs": [],
   "source": [
    "# Boolean search function that looks for documents based on a set of terms and whether the documents should contain all of any of the terms, using the \"and\" and \"or\" operators, respectively.\n",
    "# Inputs: \n",
    "# - the operator (\"and\" or \"or\")\n",
    "# - a list of terms to search for (`[\"Term1\",\"Term2\"...\"TermN\"]`)\n",
    "# - the document collection to search through (in this case our dictionary called `documents`)\n",
    "# Output: documents that match terms with operators\n",
    "import re\n",
    "def boolean(comparison,terms,documents):\n",
    "    # invert dictionary\n",
    "    documents_inverse = {value.lower():key for key,value in documents.items()}\n",
    "    # if we got just one term, make it into a list of one\n",
    "    if type(terms)==str:\n",
    "        terms = [terms]\n",
    "        \n",
    "    relevant = []\n",
    "    if comparison == \"or\":\n",
    "        for d in documents:\n",
    "            document = documents[d].lower()\n",
    "            rel = False\n",
    "            for term in terms:\n",
    "                # search using regular expression \\b (word boundary) operator so we only match whole words\n",
    "                if re.search(r\"\\b\" + re.escape(term.lower()) + r\"\\b\", document):\n",
    "                    rel = True\n",
    "            if rel == True:\n",
    "                relevant.append(documents_inverse[document])\n",
    "    if comparison == \"and\":\n",
    "        for d in documents:\n",
    "            document = documents[d].lower()\n",
    "            rel = True\n",
    "            for term in terms:\n",
    "                # search using regular expression \\b (word boundary) operator so we only match whole words\n",
    "                if not re.search(r\"\\b\" + re.escape(term.lower()) + r\"\\b\", document):\n",
    "                    rel = False\n",
    "            if rel == True:\n",
    "                relevant.append(documents_inverse[document])\n",
    "    \n",
    "    return relevant"
   ]
  },
  {
   "cell_type": "code",
   "execution_count": 6,
   "id": "9868f2c8",
   "metadata": {},
   "outputs": [
    {
     "data": {
      "text/plain": [
       "['doc2']"
      ]
     },
     "execution_count": 6,
     "metadata": {},
     "output_type": "execute_result"
    }
   ],
   "source": [
    "boolean(\"and\", [\"the\", \"force\"], documents)"
   ]
  },
  {
   "cell_type": "code",
   "execution_count": 7,
   "id": "c3a80179",
   "metadata": {},
   "outputs": [
    {
     "data": {
      "text/plain": [
       "['doc3', 'doc4']"
      ]
     },
     "execution_count": 7,
     "metadata": {},
     "output_type": "execute_result"
    }
   ],
   "source": [
    "boolean(\"and\", [\"Darth\", \"Vader\"], documents)"
   ]
  },
  {
   "cell_type": "code",
   "execution_count": 9,
   "id": "accc7e3c",
   "metadata": {},
   "outputs": [
    {
     "data": {
      "text/plain": [
       "['doc3', 'doc4', 'doc5']"
      ]
     },
     "execution_count": 9,
     "metadata": {},
     "output_type": "execute_result"
    }
   ],
   "source": [
    "boolean(\"or\", [\"Darth\", \"Vader\"], documents)"
   ]
  },
  {
   "cell_type": "code",
   "execution_count": 8,
   "id": "8cff2e1b",
   "metadata": {},
   "outputs": [
    {
     "data": {
      "text/plain": [
       "['doc2', 'doc3', 'doc4', 'doc5']"
      ]
     },
     "execution_count": 8,
     "metadata": {},
     "output_type": "execute_result"
    }
   ],
   "source": [
    "boolean(\"or\", [\"Darth\", \"Vader\", \"Luke\", \"Skywalker\"], documents)"
   ]
  }
 ],
 "metadata": {
  "kernelspec": {
   "display_name": "Python 3",
   "language": "python",
   "name": "python3"
  },
  "language_info": {
   "codemirror_mode": {
    "name": "ipython",
    "version": 3
   },
   "file_extension": ".py",
   "mimetype": "text/x-python",
   "name": "python",
   "nbconvert_exporter": "python",
   "pygments_lexer": "ipython3",
   "version": "3.8.8"
  }
 },
 "nbformat": 4,
 "nbformat_minor": 5
}
